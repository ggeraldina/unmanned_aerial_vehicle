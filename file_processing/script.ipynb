{
 "metadata": {
  "language_info": {
   "codemirror_mode": {
    "name": "ipython",
    "version": 3
   },
   "file_extension": ".py",
   "mimetype": "text/x-python",
   "name": "python",
   "nbconvert_exporter": "python",
   "pygments_lexer": "ipython3",
   "version": "3.7.4-final"
  },
  "orig_nbformat": 2,
  "kernelspec": {
   "name": "python3",
   "display_name": "Python 3.7.4 64-bit ('venv')",
   "metadata": {
    "interpreter": {
     "hash": "aae381ff3b6c78a7d0f89566cb4f5463315d8955c200e1daa380cadf9cf02004"
    }
   }
  }
 },
 "nbformat": 4,
 "nbformat_minor": 2,
 "cells": [
  {
   "cell_type": "code",
   "execution_count": 1,
   "metadata": {},
   "outputs": [],
   "source": [
    "dir_name = \"C:\\\\Users\\\\geral\\\\Documents\\\\dataset\\\\droneDataset\\\\Database1\""
   ]
  },
  {
   "cell_type": "code",
   "execution_count": 4,
   "metadata": {
    "tags": []
   },
   "outputs": [],
   "source": [
    "import os\n",
    "\n",
    "paths = os.listdir(dir_name)\n",
    "\n",
    "deleted_names = []\n",
    "\n",
    "for path in paths:\n",
    "  array_path = path.split(\".\")\n",
    "  all_path = os.path.join(dir_name, path)\n",
    "  if os.path.getsize(all_path) == 0:\n",
    "      deleted_names.append(array_path[0])\n",
    "\n",
    "for path in paths:\n",
    "  array_path = path.split(\".\")\n",
    "  all_path = os.path.join(dir_name, path)\n",
    "  if deleted_names.count(array_path[0]) != 0:\n",
    "      os.remove(all_path)\n",
    "  "
   ]
  },
  {
   "cell_type": "code",
   "execution_count": 5,
   "metadata": {},
   "outputs": [],
   "source": [
    "import magic\n",
    "import os\n",
    "\n",
    "paths = os.listdir(dir_name)\n",
    "\n",
    "for path in paths:\n",
    "    all_path = os.path.join(dir_name, path)\n",
    "    file_format = str(magic.from_file(all_path).split(\",\")[0])\n",
    "    if file_format != \"JPEG image data\":\n",
    "        if file_format == \"ASCII text\":\n",
    "            continue\n",
    "        if file_format != \"PNG image data\":\n",
    "            print(path, \" format: \", file_format)\n",
    "        else:\n",
    "            array_path = path.split(\".\")\n",
    "            new_format = os.path.join(dir_name, array_path[0], \".png\")\n",
    "            os.rename(path, new_format)\n",
    "            print(\"converting \", path, \" format: \", file_format)\n"
   ]
  },
  {
   "cell_type": "code",
   "execution_count": null,
   "metadata": {},
   "outputs": [],
   "source": []
  }
 ]
}